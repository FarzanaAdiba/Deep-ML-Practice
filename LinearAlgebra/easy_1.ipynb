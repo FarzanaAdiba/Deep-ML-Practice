import numpy as np

def mat_dot(mat,vect):
    matrix=np.array(mat)
    vector=np.array(vect)

    #check if the matrix col and the vector (1D mat) 1st col elements match or not. if noit then invalid
    if matrix.shape[1]!=vector.shape[0]:
        return -1

    return np.dot(matrix,vector)


matrix=[[1,2,3],[4,5,6]]
vector=[1,2,3]
mat_dot(matrix,vector)
